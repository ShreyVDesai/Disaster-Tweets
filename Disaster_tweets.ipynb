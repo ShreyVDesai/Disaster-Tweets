{
 "cells": [
  {
   "cell_type": "code",
   "execution_count": null,
   "id": "27574918",
   "metadata": {},
   "outputs": [],
   "source": []
  },
  {
   "cell_type": "code",
   "execution_count": 1,
   "id": "e8badd79",
   "metadata": {},
   "outputs": [
    {
     "name": "stderr",
     "output_type": "stream",
     "text": [
      "C:\\Users\\shrey\\anaconda3\\lib\\site-packages\\pandas\\core\\arrays\\masked.py:60: UserWarning: Pandas requires version '1.3.6' or newer of 'bottleneck' (version '1.3.5' currently installed).\n",
      "  from pandas.core import (\n",
      "C:\\Users\\shrey\\anaconda3\\lib\\site-packages\\scipy\\__init__.py:155: UserWarning: A NumPy version >=1.18.5 and <1.26.0 is required for this version of SciPy (detected version 1.26.4\n",
      "  warnings.warn(f\"A NumPy version >={np_minversion} and <{np_maxversion}\"\n",
      "[nltk_data] Downloading package stopwords to\n",
      "[nltk_data]     C:\\Users\\shrey\\AppData\\Roaming\\nltk_data...\n",
      "[nltk_data]   Package stopwords is already up-to-date!\n",
      "[nltk_data] Downloading package punkt to\n",
      "[nltk_data]     C:\\Users\\shrey\\AppData\\Roaming\\nltk_data...\n",
      "[nltk_data]   Package punkt is already up-to-date!\n",
      "[nltk_data] Downloading package vader_lexicon to\n",
      "[nltk_data]     C:\\Users\\shrey\\AppData\\Roaming\\nltk_data...\n",
      "[nltk_data]   Package vader_lexicon is already up-to-date!\n"
     ]
    },
    {
     "data": {
      "text/plain": [
       "True"
      ]
     },
     "execution_count": 1,
     "metadata": {},
     "output_type": "execute_result"
    }
   ],
   "source": [
    "import pandas as pd\n",
    "import numpy as np\n",
    "from sklearn.feature_extraction.text import CountVectorizer, TfidfVectorizer\n",
    "from sklearn.model_selection import train_test_split\n",
    "from sklearn.naive_bayes import MultinomialNB\n",
    "from sklearn.pipeline import Pipeline\n",
    "from sklearn.metrics import classification_report, accuracy_score\n",
    "from sklearn.feature_extraction.text import TfidfTransformer\n",
    "from sklearn.linear_model import LogisticRegression\n",
    "from nltk.corpus import stopwords\n",
    "from nltk.stem import PorterStemmer, WordNetLemmatizer\n",
    "from nltk.tokenize import word_tokenize\n",
    "import re\n",
    "from sklearn.svm import SVC\n",
    "from nltk.sentiment.vader import SentimentIntensityAnalyzer\n",
    "\n",
    "import nltk\n",
    "nltk.download('stopwords')\n",
    "nltk.download('punkt')\n",
    "nltk.download('vader_lexicon')\n"
   ]
  },
  {
   "cell_type": "code",
   "execution_count": 2,
   "id": "04fca68e",
   "metadata": {},
   "outputs": [],
   "source": [
    "# Load the dataset\n",
    "df = pd.read_csv('train.csv')\n",
    "\n",
    "# Text preprocessing function\n",
    "def preprocess_text(text):\n",
    "    # Lowercasing\n",
    "    text = text.lower()\n",
    "    # Remove URLs\n",
    "    text = re.sub(r\"http\\S+|www\\S+|https\\S+\", '', text, flags=re.MULTILINE)\n",
    "    # Remove special characters and numbers\n",
    "    text = re.sub(r'\\W+', ' ', text)\n",
    "    # Remove stopwords\n",
    "    stop_words = set(stopwords.words('english'))\n",
    "    tokens = word_tokenize(text)\n",
    "    text = ' '.join([word for word in tokens if word not in stop_words])\n",
    "    # Stemming\n",
    "    stemmer = PorterStemmer()\n",
    "    text = ' '.join([stemmer.stem(word) for word in text.split()])\n",
    "    return text\n",
    "\n",
    "# Apply preprocessing\n",
    "df['cleaned_text'] = df['text'].apply(preprocess_text)\n"
   ]
  },
  {
   "cell_type": "code",
   "execution_count": 3,
   "id": "452fcf56",
   "metadata": {},
   "outputs": [],
   "source": [
    "wordnet_lemmatizer = WordNetLemmatizer()\n",
    "def preprocess_text(text):\n",
    "    stop_words = set(stopwords.words('english'))\n",
    "    output = ''\n",
    "    words = word_tokenize(text)\n",
    "    for i in words:\n",
    "        i = wordnet_lemmatizer.lemmatize(i)\n",
    "        \n",
    "        if i not in stop_words:\n",
    "            output += i.lower() + ' '\n",
    "    \n",
    "    return output\n",
    "\n",
    "def extract_ngrams(text, n):\n",
    "#     words = preprocess_text(text)\n",
    "    n_grams = ngrams(text, n)\n",
    "    return list(n_grams)\n",
    "\n",
    "\n",
    "analyser = SentimentIntensityAnalyzer()\n",
    "def analyse_sentiments(text):\n",
    "    sentiment_score = analyser.polarity_scores(text)\n",
    "    return sentiment_score['compound']\n",
    "    "
   ]
  },
  {
   "cell_type": "code",
   "execution_count": 4,
   "id": "d6c60612",
   "metadata": {},
   "outputs": [],
   "source": [
    "# Bag of Words (BoW) feature extraction\n",
    "bow_vectorizer = CountVectorizer(ngram_range=(1, 2))\n",
    "X_bow = bow_vectorizer.fit_transform(df['cleaned_text'])\n",
    "\n",
    "# TF-IDF feature extraction\n",
    "vectorizer = TfidfVectorizer(ngram_range=(1, 2))\n",
    "X_tfidf = vectorizer.fit_transform(df['cleaned_text'])\n"
   ]
  },
  {
   "cell_type": "code",
   "execution_count": 5,
   "id": "d6fa1d73",
   "metadata": {},
   "outputs": [],
   "source": [
    "from textblob import TextBlob\n",
    "\n",
    "# Function to get sentiment\n",
    "def get_sentiment(text):\n",
    "    return TextBlob(text).sentiment.polarity\n",
    "\n",
    "# Apply sentiment analysis\n",
    "df['sentiment'] = df['text'].apply(get_sentiment)\n"
   ]
  },
  {
   "cell_type": "code",
   "execution_count": 6,
   "id": "23e451c2",
   "metadata": {},
   "outputs": [],
   "source": [
    "# Split the data\n",
    "X_train, X_test, y_train, y_test = train_test_split(X_tfidf, df['target'], test_size=0.2, random_state=42)\n"
   ]
  },
  {
   "cell_type": "code",
   "execution_count": 7,
   "id": "72740454",
   "metadata": {},
   "outputs": [],
   "source": [
    "from sklearn.linear_model import LogisticRegression\n",
    "from sklearn.naive_bayes import MultinomialNB\n",
    "from sklearn.svm import SVC\n",
    "\n",
    "# Define individual models with basic parameters\n",
    "model1 = LogisticRegression(max_iter=200)\n",
    "model2 = MultinomialNB()\n",
    "model3 = SVC(probability=True)  # probability=True is required for soft voting\n"
   ]
  },
  {
   "cell_type": "code",
   "execution_count": 8,
   "id": "933a2a13",
   "metadata": {},
   "outputs": [],
   "source": [
    "from sklearn.ensemble import VotingClassifier\n",
    "\n",
    "voting_clf = VotingClassifier(estimators=[\n",
    "    ('lr', model1), \n",
    "    ('nb', model2), \n",
    "    ('svc', model3)\n",
    "], voting='soft')  # 'soft' voting allows for probability averaging\n",
    "param_grid = {\n",
    "    'lr__C': [0.01, 0.1, 1, 10],  # Hyperparameter for Logistic Regression\n",
    "    'svc__C': [0.1, 1, 10, 100],  # Hyperparameter for SVC\n",
    "    'svc__kernel': ['linear', 'rbf'],  # Hyperparameter for SVC\n",
    "    'nb__alpha': [0.01, 0.1, 1, 10],  # Hyperparameter for Naive Bayes\n",
    "    'voting': ['soft', 'hard']  # Whether to use soft or hard voting\n",
    "}"
   ]
  },
  {
   "cell_type": "code",
   "execution_count": 9,
   "id": "304174bf",
   "metadata": {},
   "outputs": [
    {
     "name": "stdout",
     "output_type": "stream",
     "text": [
      "Best parameters found:  {'voting': 'soft', 'svc__kernel': 'rbf', 'svc__C': 100, 'nb__alpha': 0.1, 'lr__C': 0.01}\n",
      "Best accuracy:  0.8045977011494253\n"
     ]
    }
   ],
   "source": [
    "from sklearn.model_selection import RandomizedSearchCV\n",
    "\n",
    "random_search = RandomizedSearchCV(estimator=voting_clf, param_distributions=param_grid, \n",
    "                                   n_iter=10, cv=5, scoring='accuracy', n_jobs=-1, random_state=42)\n",
    "\n",
    "# Fit the model\n",
    "random_search.fit(X_train, y_train)\n",
    "\n",
    "# Get the best parameters and score\n",
    "print(\"Best parameters found: \", random_search.best_params_)\n",
    "print(\"Best accuracy: \", random_search.best_score_)\n"
   ]
  },
  {
   "cell_type": "code",
   "execution_count": 10,
   "id": "4f6993b0",
   "metadata": {},
   "outputs": [],
   "source": [
    "X_test = pd.read_csv('test.csv')"
   ]
  },
  {
   "cell_type": "code",
   "execution_count": 11,
   "id": "649c2c09",
   "metadata": {
    "scrolled": false
   },
   "outputs": [
    {
     "name": "stdout",
     "output_type": "stream",
     "text": [
      "   id keyword location                                               text\n",
      "0   0     NaN      NaN                 Just happened a terrible car crash\n",
      "1   2     NaN      NaN  Heard about #earthquake is different cities, s...\n",
      "2   3     NaN      NaN  there is a forest fire at spot pond, geese are...\n",
      "3   9     NaN      NaN           Apocalypse lighting. #Spokane #wildfires\n",
      "4  11     NaN      NaN      Typhoon Soudelor kills 28 in China and Taiwan\n"
     ]
    }
   ],
   "source": [
    "import pandas as pd\n",
    "\n",
    "# Load the test set\n",
    "test_df = pd.read_csv('test.csv')\n",
    "\n",
    "# Check the first few rows of the test data to confirm it's loaded correctly\n",
    "print(test_df.head())\n"
   ]
  },
  {
   "cell_type": "code",
   "execution_count": 12,
   "id": "3062589d",
   "metadata": {
    "scrolled": true
   },
   "outputs": [
    {
     "name": "stdout",
     "output_type": "stream",
     "text": [
      "Test set shape after vectorization: (3263, 60991)\n"
     ]
    }
   ],
   "source": [
    "from sklearn.feature_extraction.text import TfidfVectorizer\n",
    "\n",
    "# Assuming you used TfidfVectorizer or CountVectorizer for training\n",
    "# If you are still in the same session, ensure that the vectorizer from training is defined:\n",
    "# vectorizer = TfidfVectorizer(...) or similar from training\n",
    "\n",
    "# Check if vectorizer is still in memory, otherwise you'll need to redefine or reload it\n",
    "X_test = vectorizer.transform(test_df['text'])  # Transform test data with the existing vectorizer\n",
    "\n",
    "print(f\"Test set shape after vectorization: {X_test.shape}\")\n",
    "\n",
    "# import joblib\n",
    "\n",
    "# # Load the vectorizer (if you saved it previously)\n",
    "# vectorizer = joblib.load('vectorizer.pkl')\n",
    "\n",
    "# Transform the test data\n",
    "X_test = vectorizer.transform(test_df['text'])\n",
    "\n"
   ]
  },
  {
   "cell_type": "code",
   "execution_count": 13,
   "id": "cd9d274a",
   "metadata": {},
   "outputs": [],
   "source": [
    "# Assuming `random_search` has already been fit to your training data\n",
    "\n",
    "# Make predictions on the test set\n",
    "predictions = random_search.best_estimator_.predict(X_test)\n",
    "\n",
    "# Create a DataFrame for submission\n",
    "submission_df = pd.DataFrame({\n",
    "    'id': test_df['id'],  # Assuming 'id' is the column name for tweet ids in your test dataset\n",
    "    'target': predictions  # These are your predictions for whether each tweet is a disaster or not\n",
    "})\n",
    "\n",
    "# Save the submission to a CSV file\n",
    "submission_df.to_csv('disaster_tweets_submission.csv', index=False)\n"
   ]
  },
  {
   "cell_type": "code",
   "execution_count": null,
   "id": "7c4cd2e5",
   "metadata": {},
   "outputs": [],
   "source": []
  }
 ],
 "metadata": {
  "kernelspec": {
   "display_name": "Python 3 (ipykernel)",
   "language": "python",
   "name": "python3"
  },
  "language_info": {
   "codemirror_mode": {
    "name": "ipython",
    "version": 3
   },
   "file_extension": ".py",
   "mimetype": "text/x-python",
   "name": "python",
   "nbconvert_exporter": "python",
   "pygments_lexer": "ipython3",
   "version": "3.9.18"
  }
 },
 "nbformat": 4,
 "nbformat_minor": 5
}
